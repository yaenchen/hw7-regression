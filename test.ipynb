{
 "cells": [
  {
   "cell_type": "code",
   "execution_count": 59,
   "id": "b9aa7b49-698e-4495-809d-e9fdee03313d",
   "metadata": {},
   "outputs": [],
   "source": [
    "import pytest\n",
    "import regression\n",
    "from sklearn.preprocessing import StandardScaler\n",
    "from sklearn.metrics import log_loss\n",
    "import numpy as np"
   ]
  },
  {
   "cell_type": "code",
   "execution_count": 82,
   "id": "abca3c5f-efea-4166-90d5-fbe8572fa458",
   "metadata": {},
   "outputs": [],
   "source": [
    "X_train, X_val, y_train, y_val = regression.utils.loadDataset(\n",
    "    features=[\n",
    "        'Penicillin V Potassium 500 MG',\n",
    "        'Computed tomography of chest and abdomen',\n",
    "        'Plain chest X-ray (procedure)',\n",
    "        'Low Density Lipoprotein Cholesterol',\n",
    "        'Creatinine',\n",
    "        'AGE_DIAGNOSIS'\n",
    "    ],\n",
    "    split_percent=0.8,\n",
    "    split_seed=42\n",
    ")\n",
    "\n",
    "# Scale the data, since values vary across feature. Note that we\n",
    "# fit on the training data and use the same scaler for X_val.\n",
    "sc = StandardScaler()\n",
    "X_train = sc.fit_transform(X_train)\n",
    "X_val = sc.transform(X_val)\n",
    "\n",
    "# For testing purposes, once you've added your code.\n",
    "# CAUTION: hyperparameters have not been optimized.\n",
    "log_model = regression.logreg.LogisticRegressor(num_feats=6, learning_rate=0.00001, tol=0.01, max_iter=10, batch_size=10)\n",
    "\n",
    "X_val = np.hstack([X_val, np.ones((X_val.shape[0], 1))])\n",
    "preds = log_model.make_prediction(X_val)[0:10]\n",
    "\n",
    "# check that we get the expected number of predictions\n",
    "#assert np.shape(preds) == np.shape(X_val)"
   ]
  },
  {
   "cell_type": "code",
   "execution_count": 86,
   "id": "a17f495a-66d5-45d5-84bf-d274023c2170",
   "metadata": {},
   "outputs": [
    {
     "data": {
      "text/plain": [
       "array([0.01522036, 0.47635533, 0.34717643, 0.65219967, 0.75931417,\n",
       "       0.97971614, 0.87240443, 0.03239509, 0.66737156, 0.05356135])"
      ]
     },
     "execution_count": 86,
     "metadata": {},
     "output_type": "execute_result"
    }
   ],
   "source": [
    "preds"
   ]
  },
  {
   "cell_type": "code",
   "execution_count": 85,
   "id": "d49d135c-a133-4027-9b3a-07888ba52673",
   "metadata": {},
   "outputs": [
    {
     "data": {
      "text/plain": [
       "array([0.01522036, 0.47635533, 0.34717643, 0.65219967, 0.75931417,\n",
       "       0.97971614, 0.87240443, 0.03239509, 0.66737156, 0.05356135])"
      ]
     },
     "execution_count": 85,
     "metadata": {},
     "output_type": "execute_result"
    }
   ],
   "source": [
    "preds"
   ]
  },
  {
   "cell_type": "code",
   "execution_count": 29,
   "id": "1d08361f-1c58-4077-8b8e-e96e2bffe89b",
   "metadata": {},
   "outputs": [
    {
     "data": {
      "text/plain": [
       "0.7260681224143479"
      ]
     },
     "execution_count": 29,
     "metadata": {},
     "output_type": "execute_result"
    }
   ],
   "source": [
    "losses = log_model.loss_function(y_val, log_model.make_prediction(X_val))\n",
    "losses"
   ]
  },
  {
   "cell_type": "code",
   "execution_count": 34,
   "id": "7eb36180-78d3-4450-8590-74dc4a9df60d",
   "metadata": {},
   "outputs": [
    {
     "data": {
      "text/plain": [
       "array([1, 0, 1, 0, 1, 1, 0, 1, 0, 1, 0, 1, 1, 0, 0, 0, 0, 0, 1, 1, 0, 1,\n",
       "       1, 1, 1, 0, 1, 0, 0, 0, 0, 0, 0, 0, 1, 0, 1, 1, 1, 0, 0, 1, 0, 0,\n",
       "       1, 0, 0, 0, 0, 1, 1, 0, 1, 0, 0, 1, 1, 1, 1, 0, 1, 0, 1, 1, 1, 1,\n",
       "       0, 1, 0, 1, 1, 0, 1, 1, 0, 0, 1, 0, 0, 1, 0, 0, 1, 1, 1, 1, 1, 0,\n",
       "       0, 1, 1, 1, 0, 0, 1, 1, 0, 1, 1, 1, 0, 0, 0, 1, 0, 0, 0, 0, 0, 0,\n",
       "       0, 1, 1, 1, 0, 0, 1, 0, 0, 1, 1, 1, 1, 0, 0, 1, 0, 0, 1, 0, 1, 1,\n",
       "       0, 0, 0, 1, 1, 1, 1, 1, 1, 0, 1, 0, 1, 0, 0, 1, 0, 0, 1, 0, 0, 1,\n",
       "       0, 0, 0, 1, 0, 1, 0, 0, 0, 1, 1, 1, 1, 1, 0, 1, 1, 0, 1, 1, 0, 1,\n",
       "       0, 1, 0, 1, 1, 0, 1, 1, 0, 0, 1, 1, 1, 1, 0, 0, 1, 0, 0, 0, 1, 0,\n",
       "       0, 1, 1, 0, 0, 0, 0, 0, 1, 1, 1, 0, 1, 0, 0, 0, 0, 1, 1, 0, 0, 1,\n",
       "       0, 0, 0, 1, 1, 1, 0, 0, 1, 0, 1, 0, 1, 1, 1, 0, 1, 0, 1, 0, 0, 1,\n",
       "       0, 0, 1, 0, 0, 1, 0, 1, 1, 0, 1, 0, 1, 1, 0, 0, 1, 1, 0, 1, 0, 1,\n",
       "       1, 1, 0, 0, 0, 1, 1, 1, 0, 1, 1, 1, 0, 0, 1, 0, 1, 1, 0, 1, 1, 0,\n",
       "       0, 1, 0, 0, 1, 1, 1, 1, 0, 0, 0, 1, 1, 0, 0, 0, 1, 1, 0, 1, 1, 1,\n",
       "       0, 0, 1, 1, 1, 0, 1, 0, 1, 1, 1, 1, 0, 1, 0, 0, 0, 0, 1, 0, 1, 0,\n",
       "       0, 0, 1, 0, 0, 1, 0, 0, 1, 1, 1, 0, 1, 0, 0, 1, 0, 1, 1, 0, 0, 0,\n",
       "       1, 1, 0, 0, 1, 1, 1, 1, 0, 0, 0, 0, 0, 0, 1, 0, 1, 0, 1, 1, 0, 1,\n",
       "       1, 1, 0, 1, 1, 1, 1, 0, 0, 1, 1, 0, 0, 1, 0, 1, 1, 1, 0, 0, 0, 0,\n",
       "       1, 1, 0, 0])"
      ]
     },
     "execution_count": 34,
     "metadata": {},
     "output_type": "execute_result"
    }
   ],
   "source": [
    "y_val"
   ]
  },
  {
   "cell_type": "code",
   "execution_count": 88,
   "id": "c8a84920-1ed4-4dfb-a117-493cb61a8c8e",
   "metadata": {},
   "outputs": [
    {
     "data": {
      "text/plain": [
       "1.038799153793048"
      ]
     },
     "execution_count": 88,
     "metadata": {},
     "output_type": "execute_result"
    }
   ],
   "source": [
    "my_losses = log_model.loss_function(y_val, log_model.make_prediction(X_val))\n",
    "sklearn_losses = log_loss(y_val, log_model.make_prediction(X_val))\n",
    "\n",
    "sklearn_losses"
   ]
  },
  {
   "cell_type": "code",
   "execution_count": 89,
   "id": "f1489534-8f4f-4640-aed0-5038a4efc888",
   "metadata": {},
   "outputs": [
    {
     "data": {
      "text/plain": [
       "1.038799153793048"
      ]
     },
     "execution_count": 89,
     "metadata": {},
     "output_type": "execute_result"
    }
   ],
   "source": [
    "my_losses"
   ]
  },
  {
   "cell_type": "code",
   "execution_count": 90,
   "id": "26228856-4b87-457c-aaae-175959d078e6",
   "metadata": {},
   "outputs": [
    {
     "data": {
      "text/plain": [
       "array([-0.4665516 , -0.12096683, -0.22550362,  0.        ,  0.        ,\n",
       "       -0.03226216,  0.09417312])"
      ]
     },
     "execution_count": 90,
     "metadata": {},
     "output_type": "execute_result"
    }
   ],
   "source": [
    "gradient = log_model.calculate_gradient(y_val, X_val)\n",
    "gradient"
   ]
  },
  {
   "cell_type": "code",
   "execution_count": 43,
   "id": "003bf795-572c-41e5-8563-0389b416d7c8",
   "metadata": {},
   "outputs": [
    {
     "data": {
      "text/plain": [
       "array([-0.59419986,  0.10745435,  1.83399985, -0.95008541,  0.71772143,\n",
       "        0.76705803,  0.38425104])"
      ]
     },
     "execution_count": 43,
     "metadata": {},
     "output_type": "execute_result"
    }
   ],
   "source": [
    "log_model.W"
   ]
  },
  {
   "cell_type": "code",
   "execution_count": 45,
   "id": "1ccc6f74-1e89-4409-924a-27228d17f2fc",
   "metadata": {},
   "outputs": [
    {
     "data": {
      "text/plain": [
       "array([ True,  True,  True,  True,  True,  True,  True])"
      ]
     },
     "execution_count": 45,
     "metadata": {},
     "output_type": "execute_result"
    }
   ],
   "source": [
    "log_model.W != np.random.randn(6 + 1).flatten()"
   ]
  }
 ],
 "metadata": {
  "kernelspec": {
   "display_name": "Python 3 (ipykernel)",
   "language": "python",
   "name": "python3"
  },
  "language_info": {
   "codemirror_mode": {
    "name": "ipython",
    "version": 3
   },
   "file_extension": ".py",
   "mimetype": "text/x-python",
   "name": "python",
   "nbconvert_exporter": "python",
   "pygments_lexer": "ipython3",
   "version": "3.9.7"
  }
 },
 "nbformat": 4,
 "nbformat_minor": 5
}
